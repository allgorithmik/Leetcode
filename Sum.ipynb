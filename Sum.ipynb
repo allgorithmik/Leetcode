{
 "cells": [
  {
   "cell_type": "code",
   "execution_count": null,
   "metadata": {},
   "outputs": [],
   "source": [
    "def twoSum(nums, target):\n",
    "    index = 0\n",
    "    index1 = 1\n",
    "    for i in nums:\n",
    "        if index + nums[index1] == target:\n",
    "            return list((i, index))\n",
    "        if index <= len(nums):\n",
    "            index += 1\n",
    "\n",
    "\n",
    "twoSum([1,2,3,4,5], 5)\n",
    "\n"
   ]
  },
  {
   "cell_type": "code",
   "execution_count": null,
   "metadata": {},
   "outputs": [],
   "source": [
    "#Given an integer x, return true if x is palindrome integer.\n",
    "#An integer is a palindrome when it reads the same backward as forward.\n",
    "#For example, 121 is a palindrome while 123 is not.\n",
    "def palindrome(x: int) -> bool:\n",
    "    lis = str(x)\n",
    "    lisInv = lis[::-1]\n",
    "    answer1 = int(lis)\n",
    "    answer2 = int(lisInv)\n",
    "    if answer1 == answer2:\n",
    "        return True\n",
    "    else:\n",
    "        return False\n",
    "\n",
    "palindrome()"
   ]
  },
  {
   "cell_type": "code",
   "execution_count": null,
   "metadata": {},
   "outputs": [],
   "source": []
  }
 ],
 "metadata": {
  "interpreter": {
   "hash": "a8f61be024eba58adef938c9aa1e29e02cb3dece83a5348b1a2dafd16a070453"
  },
  "kernelspec": {
   "display_name": "Python 3.9.4 64-bit ('base': conda)",
   "language": "python",
   "name": "python3"
  },
  "language_info": {
   "codemirror_mode": {
    "name": "ipython",
    "version": 3
   },
   "file_extension": ".py",
   "mimetype": "text/x-python",
   "name": "python",
   "nbconvert_exporter": "python",
   "pygments_lexer": "ipython3",
   "version": "3.9.4"
  },
  "orig_nbformat": 4
 },
 "nbformat": 4,
 "nbformat_minor": 2
}
